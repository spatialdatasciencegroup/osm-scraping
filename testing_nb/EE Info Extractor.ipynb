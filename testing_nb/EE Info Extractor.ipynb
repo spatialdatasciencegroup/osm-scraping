{
 "cells": [
  {
   "cell_type": "code",
   "execution_count": 2,
   "id": "mature-backup",
   "metadata": {},
   "outputs": [],
   "source": [
    "import matplotlib.pyplot as plt\n",
    "import pandas as pd\n",
    "import geopandas as gpd\n",
    "import overpass\n",
    "import overpy\n",
    "from shapely.ops import polygonize, polygonize_full, unary_union, linemerge\n",
    "import shapely.geometry as geometry\n",
    "import ee\n",
    "import folium\n",
    "import pprint\n",
    "import json"
   ]
  },
  {
   "cell_type": "code",
   "execution_count": 3,
   "id": "bridal-rally",
   "metadata": {},
   "outputs": [
    {
     "data": {
      "text/html": [
       "<p>To authorize access needed by Earth Engine, open the following\n",
       "        URL in a web browser and follow the instructions:</p>\n",
       "        <p><a href=https://accounts.google.com/o/oauth2/auth?client_id=517222506229-vsmmajv00ul0bs7p89v5m89qs8eb9359.apps.googleusercontent.com&scope=https%3A%2F%2Fwww.googleapis.com%2Fauth%2Fearthengine+https%3A%2F%2Fwww.googleapis.com%2Fauth%2Fdevstorage.full_control&redirect_uri=urn%3Aietf%3Awg%3Aoauth%3A2.0%3Aoob&response_type=code&code_challenge=0GUk-aDEqO173dDG5ShZ75s4-QvCnuyAk6TZPCED9Gg&code_challenge_method=S256>https://accounts.google.com/o/oauth2/auth?client_id=517222506229-vsmmajv00ul0bs7p89v5m89qs8eb9359.apps.googleusercontent.com&scope=https%3A%2F%2Fwww.googleapis.com%2Fauth%2Fearthengine+https%3A%2F%2Fwww.googleapis.com%2Fauth%2Fdevstorage.full_control&redirect_uri=urn%3Aietf%3Awg%3Aoauth%3A2.0%3Aoob&response_type=code&code_challenge=0GUk-aDEqO173dDG5ShZ75s4-QvCnuyAk6TZPCED9Gg&code_challenge_method=S256</a></p>\n",
       "        <p>The authorization workflow will generate a code, which you\n",
       "        should paste in the box below</p>\n",
       "        "
      ],
      "text/plain": [
       "<IPython.core.display.HTML object>"
      ]
     },
     "metadata": {},
     "output_type": "display_data"
    },
    {
     "name": "stdin",
     "output_type": "stream",
     "text": [
      "Enter verification code:  4/1AY0e-g7IQOv-x1rQZkbWzmPDsialABYdagZuX3k6Ujjwo7g-JN_zkuzPdRs\n"
     ]
    },
    {
     "name": "stdout",
     "output_type": "stream",
     "text": [
      "\n",
      "Successfully saved authorization token.\n"
     ]
    }
   ],
   "source": [
    "ee.Authenticate()\n",
    "ee.Initialize()"
   ]
  },
  {
   "cell_type": "code",
   "execution_count": 4,
   "id": "infectious-junction",
   "metadata": {},
   "outputs": [],
   "source": [
    "dataset = ee.ImageCollection(\"SKYSAT/GEN-A/PUBLIC/ORTHO/RGB\")\n",
    "land = ee.ImageCollection(\"AAFC/ACI\")\n",
    "info = dataset.first().getInfo()"
   ]
  },
  {
   "cell_type": "code",
   "execution_count": 5,
   "id": "passing-geology",
   "metadata": {},
   "outputs": [],
   "source": [
    "a = dataset.toDictionary()\n",
    "cols = dataset.first().propertyNames()\n",
    "str = cols.join(\"\\n\")\n",
    "#pprint.pprint(dataset.first().getInfo())"
   ]
  },
  {
   "cell_type": "code",
   "execution_count": 6,
   "id": "dressed-beverage",
   "metadata": {},
   "outputs": [
    {
     "name": "stdout",
     "output_type": "stream",
     "text": [
      "PROJCS[\"UTM Zone 10, Northern Hemisphere\", \n",
      "  GEOGCS[\"WGS 84\", \n",
      "    DATUM[\"WGS_1984\", \n",
      "      SPHEROID[\"WGS 84\", 6378137.0, 298.257223563, AUTHORITY[\"EPSG\",\"7030\"]], \n",
      "      TOWGS84[0.0, 0.0, 0.0, 0.0, 0.0, 0.0, 0.0], \n",
      "      AUTHORITY[\"EPSG\",\"6326\"]], \n",
      "    PRIMEM[\"Greenwich\", 0.0, AUTHORITY[\"EPSG\",\"8901\"]], \n",
      "    UNIT[\"degree\", 0.017453292519943295], \n",
      "    AXIS[\"Longitude\", EAST], \n",
      "    AXIS[\"Latitude\", NORTH], \n",
      "    AUTHORITY[\"EPSG\",\"4326\"]], \n",
      "  PROJECTION[\"Transverse_Mercator\"], \n",
      "  PARAMETER[\"central_meridian\", -123.0], \n",
      "  PARAMETER[\"latitude_of_origin\", 0.0], \n",
      "  PARAMETER[\"scale_factor\", 0.9996], \n",
      "  PARAMETER[\"false_easting\", 500000.0], \n",
      "  PARAMETER[\"false_northing\", 0.0], \n",
      "  UNIT[\"m\", 1.0], \n",
      "  AXIS[\"x\", EAST], \n",
      "  AXIS[\"y\", NORTH]]\n"
     ]
    }
   ],
   "source": [
    "#print out the CRS information\n",
    "print(info['bands'][0]['crs'])"
   ]
  },
  {
   "cell_type": "code",
   "execution_count": 7,
   "id": "younger-hydrogen",
   "metadata": {},
   "outputs": [
    {
     "data": {
      "text/plain": [
       "['R', 'G', 'B']"
      ]
     },
     "execution_count": 7,
     "metadata": {},
     "output_type": "execute_result"
    }
   ],
   "source": [
    "#get band names\n",
    "bands = info['bands']\n",
    "bandNames = []\n",
    "\n",
    "#go through each band in the list and add it's name to the array\n",
    "for x in bands:\n",
    "    bandNames.append(x['id'])\n",
    "    \n",
    "#print out the array\n",
    "bandNames"
   ]
  },
  {
   "cell_type": "code",
   "execution_count": 9,
   "id": "professional-peripheral",
   "metadata": {},
   "outputs": [
    {
     "data": {
      "text/plain": [
       "['resamplingMethod',\n",
       " 'satelliteAzimuthAngleMin',\n",
       " 'satelliteElevationAngleMax',\n",
       " 'channelScaleOfLinearImages',\n",
       " 'satelliteElevationAngleMin',\n",
       " 'system:footprint',\n",
       " 'productionID',\n",
       " 'collectionEndTime',\n",
       " 'satelliteAzimuthAngleMean',\n",
       " 'productType',\n",
       " 'satelliteName',\n",
       " 'productionSystemVersion',\n",
       " 'snaptoAlignmentConfidence',\n",
       " 'system:time_end',\n",
       " 'solarElevationAngle',\n",
       " 'snaptoReferenceAssets',\n",
       " 'system:time_start',\n",
       " 'terrainBlendEpoch',\n",
       " 'collectionType',\n",
       " 'satelliteAzimuthAngleMax',\n",
       " 'catalogID',\n",
       " 'collectionStartTime',\n",
       " 'satelliteElevationAngleMean',\n",
       " 'system:asset_size',\n",
       " 'solarAzimuthAngle',\n",
       " 'system:index']"
      ]
     },
     "execution_count": 9,
     "metadata": {},
     "output_type": "execute_result"
    }
   ],
   "source": [
    "#get label names\n",
    "labels = info['properties']\n",
    "labelNames = []\n",
    "#pprint.pprint(info)\n",
    "\n",
    "#go through each key in the list and add it's name to the array\n",
    "for x in labels.keys():\n",
    "    labelNames.append(x)\n",
    "    \n",
    "#print out the array\n",
    "labelNames"
   ]
  },
  {
   "cell_type": "code",
   "execution_count": 10,
   "id": "fitted-fraction",
   "metadata": {},
   "outputs": [
    {
     "name": "stdout",
     "output_type": "stream",
     "text": [
      "{'coordinates': [[-122.41488686359398, 38.74884444235594],\n",
      "                 [-122.41489256725765, 38.74885242566341],\n",
      "                 [-122.45397750490186, 38.75331064284916],\n",
      "                 [-122.46190216975783, 38.71805043402878],\n",
      "                 [-122.49757947299618, 38.722015751372616],\n",
      "                 [-122.50559839848275, 38.68028630470562],\n",
      "                 [-122.53814465503827, 38.56189533389399],\n",
      "                 [-122.53813913073571, 38.56188699489921],\n",
      "                 [-122.49864158347307, 38.55705144450406],\n",
      "                 [-122.48781851654087, 38.59166815234509],\n",
      "                 [-122.47776723046402, 38.590528816847055],\n",
      "                 [-122.45949696637473, 38.58802473592073],\n",
      "                 [-122.46857561977231, 38.55242950151375],\n",
      "                 [-122.4685700917797, 38.552421224522256],\n",
      "                 [-122.42900870408246, 38.54756188918841],\n",
      "                 [-122.41651749385693, 38.60258788578131],\n",
      "                 [-122.39768415642968, 38.66616642368854],\n",
      "                 [-122.38922726999952, 38.70892482524814],\n",
      "                 [-122.42202466989593, 38.71289808361436],\n",
      "                 [-122.41488686359398, 38.74884444235594]],\n",
      " 'type': 'LinearRing'}\n"
     ]
    }
   ],
   "source": [
    "pprint.pprint(info['properties']['system:footprint'])"
   ]
  },
  {
   "cell_type": "code",
   "execution_count": null,
   "id": "welsh-today",
   "metadata": {},
   "outputs": [],
   "source": []
  }
 ],
 "metadata": {
  "kernelspec": {
   "display_name": "Python 3",
   "language": "python",
   "name": "python3"
  },
  "language_info": {
   "codemirror_mode": {
    "name": "ipython",
    "version": 3
   },
   "file_extension": ".py",
   "mimetype": "text/x-python",
   "name": "python",
   "nbconvert_exporter": "python",
   "pygments_lexer": "ipython3",
   "version": "3.9.1"
  }
 },
 "nbformat": 4,
 "nbformat_minor": 5
}
